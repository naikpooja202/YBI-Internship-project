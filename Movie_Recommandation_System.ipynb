{
  "nbformat": 4,
  "nbformat_minor": 0,
  "metadata": {
    "colab": {
      "provenance": [],
      "authorship_tag": "ABX9TyNXnnDKEm+3LkLHCVnEGpUD",
      "include_colab_link": true
    },
    "kernelspec": {
      "name": "python3",
      "display_name": "Python 3"
    },
    "language_info": {
      "name": "python"
    }
  },
  "cells": [
    {
      "cell_type": "markdown",
      "metadata": {
        "id": "view-in-github",
        "colab_type": "text"
      },
      "source": [
        "<a href=\"https://colab.research.google.com/github/naikpooja202/YBI-Internship-project/blob/main/Movie_Recommandation_System.ipynb\" target=\"_parent\"><img src=\"https://colab.research.google.com/assets/colab-badge.svg\" alt=\"Open In Colab\"/></a>"
      ]
    },
    {
      "cell_type": "code",
      "execution_count": 2,
      "metadata": {
        "colab": {
          "base_uri": "https://localhost:8080/"
        },
        "id": "0YUvyVx-H8rH",
        "outputId": "9dccf7fb-0f34-4004-df95-a195017ae6ea"
      },
      "outputs": [
        {
          "output_type": "stream",
          "name": "stdout",
          "text": [
            "Error loading data: [Errno 2] No such file or directory: 'movies.csv'\n"
          ]
        }
      ],
      "source": [
        "import pandas as pd\n",
        "from sklearn.feature_extraction.text import TfidfVectorizer\n",
        "from sklearn.metrics.pairwise import cosine_similarity\n",
        "\n",
        "# Load dataset\n",
        "def load_data(file_path):\n",
        "    try:\n",
        "        data = pd.read_csv(file_path)\n",
        "        print(f\"Dataset loaded successfully. Shape: {data.shape}\")\n",
        "        return data\n",
        "    except Exception as e:\n",
        "        print(f\"Error loading data: {e}\")\n",
        "        return None\n",
        "\n",
        "# Preprocess and clean data\n",
        "def preprocess_data(data):\n",
        "    # Drop rows with missing values in required columns\n",
        "    data = data.dropna(subset=['Title', 'Genre', 'Description'])\n",
        "    # Combine features into a single string\n",
        "    data['Combined'] = data['Genre'] + \" \" + data['Description']\n",
        "    return data\n",
        "\n",
        "# Build recommendation system\n",
        "def recommend_movies(title, data, top_n=5):\n",
        "    # Vectorize text data using TF-IDF\n",
        "    tfidf = TfidfVectorizer(stop_words='english')\n",
        "    tfidf_matrix = tfidf.fit_transform(data['Combined'])\n",
        "\n",
        "    # Compute cosine similarity\n",
        "    cosine_sim = cosine_similarity(tfidf_matrix, tfidf_matrix)\n",
        "\n",
        "    # Get the index of the movie that matches the title\n",
        "    indices = pd.Series(data.index, index=data['Title']).drop_duplicates()\n",
        "\n",
        "    if title not in indices:\n",
        "        print(f\"Movie '{title}' not found in the dataset.\")\n",
        "        return []\n",
        "\n",
        "    idx = indices[title]\n",
        "\n",
        "    # Get pairwise similarity scores for all movies\n",
        "    sim_scores = list(enumerate(cosine_sim[idx]))\n",
        "\n",
        "    # Sort movies by similarity scores\n",
        "    sim_scores = sorted(sim_scores, key=lambda x: x[1], reverse=True)\n",
        "\n",
        "    # Get indices of top similar movies\n",
        "    sim_indices = [i[0] for i in sim_scores[1:top_n+1]]\n",
        "\n",
        "    return data['Title'].iloc[sim_indices]\n",
        "\n",
        "# Main execution\n",
        "if __name__ == \"__main__\":\n",
        "    # Path to your dataset\n",
        "    file_path = \"movies.csv\"  # Replace with your dataset path\n",
        "\n",
        "    # Load and preprocess data\n",
        "    movie_data = load_data(file_path)\n",
        "    if movie_data is not None:\n",
        "        movie_data = preprocess_data(movie_data)\n",
        "\n",
        "        # Ask user for a movie title\n",
        "        movie_title = input(\"Enter a movie title: \")\n",
        "\n",
        "        # Get recommendations\n",
        "        recommendations = recommend_movies(movie_title, movie_data)\n",
        "        if recommendations:\n",
        "            print(f\"\\nMovies similar to '{movie_title}':\")\n",
        "            for i, movie in enumerate(recommendations, 1):\n",
        "                print(f\"{i}. {movie}\")\n"
      ]
    }
  ]
}